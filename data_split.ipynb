{
 "cells": [
  {
   "cell_type": "markdown",
   "id": "running-joint",
   "metadata": {},
   "source": [
    "## Pistols 데이터 분류하기"
   ]
  },
  {
   "cell_type": "code",
   "execution_count": 16,
   "id": "happy-excitement",
   "metadata": {},
   "outputs": [],
   "source": [
    "import os \n",
    "import glob\n",
    "import shutil\n",
    "os.mkdir(\"../Pistols/data\")\n",
    "for i in [\"train\" , \"valid\" , \"test\"]:\n",
    "    os.mkdir(\"../Pistols/data/{}\".format(i))\n",
    "    for j in ['images', 'labels']:\n",
    "        os.mkdir(\"../Pistols/data/{}/{}\".format(i,j))\n",
    "        \n",
    "imglist=glob.glob(\"../Pistols/export/images/*.jpg\")\n",
    "for img in imglist[0:2080]:\n",
    "    shutil.copy(img , \"../Pistols/data/train/images\")\n",
    "for img in imglist[2081:2674]:\n",
    "    shutil.copy(img , \"../Pistols/data/valid/images\")\n",
    "for img in imglist[2675:2971]:\n",
    "    shutil.copy(img , \"../Pistols/data//test/images\")\n",
    "\n",
    " \n",
    "   \n",
    "txtlist=glob.glob(\"../Pistols/export/labels/*.txt\")\n",
    "for txt in txtlist[0:2080]:\n",
    "    shutil.copy(txt , \"../Pistols/data/train/labels\")\n",
    "for txt in txtlist[2081:2674]:\n",
    "    shutil.copy(txt , \"../Pistols/data/valid/labels\")\n",
    "for txt in txtlist[2675:2971]:\n",
    "    shutil.copy(txt , \"../Pistols/data/test/labels\")\n"
   ]
  },
  {
   "cell_type": "code",
   "execution_count": null,
   "id": "tutorial-ballot",
   "metadata": {},
   "outputs": [],
   "source": []
  }
 ],
 "metadata": {
  "kernelspec": {
   "display_name": "Python 3",
   "language": "python",
   "name": "python3"
  },
  "language_info": {
   "codemirror_mode": {
    "name": "ipython",
    "version": 3
   },
   "file_extension": ".py",
   "mimetype": "text/x-python",
   "name": "python",
   "nbconvert_exporter": "python",
   "pygments_lexer": "ipython3",
   "version": "3.6.12"
  }
 },
 "nbformat": 4,
 "nbformat_minor": 5
}
