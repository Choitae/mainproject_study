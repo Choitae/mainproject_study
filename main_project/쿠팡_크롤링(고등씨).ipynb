{
 "cells": [
  {
   "cell_type": "code",
   "execution_count": 1,
   "id": "eight-specification",
   "metadata": {},
   "outputs": [],
   "source": [
    "%config Completer.use_jedi = False"
   ]
  },
  {
   "cell_type": "code",
   "execution_count": 3,
   "id": "challenging-weekly",
   "metadata": {},
   "outputs": [],
   "source": [
    "from bs4 import BeautifulSoup\n",
    "import requests"
   ]
  },
  {
   "cell_type": "code",
   "execution_count": 4,
   "id": "capital-switzerland",
   "metadata": {},
   "outputs": [],
   "source": [
    "SELECTOR = \"#repImageContainer > div.prod-image__items\""
   ]
  },
  {
   "cell_type": "code",
   "execution_count": 5,
   "id": "composed-stamp",
   "metadata": {},
   "outputs": [],
   "source": [
    "headers = {\"User-Agent\":\"Mozilla/5.0 (X11; Linux x86_64) AppleWebKit/537.36 (KHTML, like Gecko) Chrome/89.0.4389.82 Safari/537.36\"}\n",
    "response = requests.get(\"https://www.coupang.com/vp/products/2317100825?itemId=3999518971&vendorItemId=71944417011&q=%EC%8B%A0%EB%B0%9C&itemsCount=36&searchId=7af7050983614844885b7400c9341d6a&rank=1&isAddedCart=\", headers=headers)\n",
    "soup = BeautifulSoup(response.text, \"html.parser\")\n"
   ]
  },
  {
   "cell_type": "code",
   "execution_count": 6,
   "id": "successful-directive",
   "metadata": {},
   "outputs": [],
   "source": [
    "import re\n",
    "\n",
    "def thumb_url_to_product_url(coupang_image_url):\n",
    "    first = coupang_image_url.split(\".\")[0]\n",
    "    image_number = re.findall(\"\\d+\", first)[0]\n",
    "    first_url = f\"//image{image_number}.coupangcdn.com\"\n",
    "    return \"https:\"+first_url+\"/\"+coupang_image_url.split(\"ex/\")[1]"
   ]
  },
  {
   "cell_type": "code",
   "execution_count": 7,
   "id": "armed-portsmouth",
   "metadata": {},
   "outputs": [
    {
     "data": {
      "text/plain": [
       "[<div class=\"prod-image__items\">\n",
       " <div class=\"prod-image__item prod-image__item--active\">\n",
       " <img alt=\"thumb image\" class=\"lazy-load-img\" data-src=\"//thumbnail10.coupangcdn.com/thumbnails/remote/48x48ex/image/retail/images/2020/10/22/11/2/fc3ed8a5-85c9-4f2d-b7c3-450171c0a117.jpg\" onerror=\"this.src='//t1a.coupangcdn.com/thumbnails/remote/490x490/image/coupang/common/no_img_1000_1000.png';\" src=\"data:image/gif;base64,R0lGODlhAQABAAAAACH5BAEKAAEALAAAAAABAAEAAAICTAEAOw==\"/>\n",
       " <i class=\"prod-image__item__border\"></i>\n",
       " </div>\n",
       " <div class=\"prod-image__item\">\n",
       " <img alt=\"thumb image\" class=\"lazy-load-img\" data-src=\"//thumbnail7.coupangcdn.com/thumbnails/remote/48x48ex/image/retail/images/2020/10/22/11/5/3df9ddf9-50aa-471c-ad26-b4c5dfc0ad45.jpg\" onerror=\"this.src='//t1a.coupangcdn.com/thumbnails/remote/490x490/image/coupang/common/no_img_1000_1000.png';\" src=\"data:image/gif;base64,R0lGODlhAQABAAAAACH5BAEKAAEALAAAAAABAAEAAAICTAEAOw==\"/>\n",
       " <i class=\"prod-image__item__border\"></i>\n",
       " </div>\n",
       " <div class=\"prod-image__item\">\n",
       " <img alt=\"thumb image\" class=\"lazy-load-img\" data-src=\"//thumbnail7.coupangcdn.com/thumbnails/remote/48x48ex/image/retail/images/2020/10/22/11/2/fddb2fe3-816a-4c78-a31c-898ccd8bc19f.jpg\" onerror=\"this.src='//t1a.coupangcdn.com/thumbnails/remote/490x490/image/coupang/common/no_img_1000_1000.png';\" src=\"data:image/gif;base64,R0lGODlhAQABAAAAACH5BAEKAAEALAAAAAABAAEAAAICTAEAOw==\"/>\n",
       " <i class=\"prod-image__item__border\"></i>\n",
       " </div>\n",
       " <div class=\"prod-image__item\">\n",
       " <img alt=\"thumb image\" class=\"lazy-load-img\" data-src=\"//thumbnail9.coupangcdn.com/thumbnails/remote/48x48ex/image/retail/images/2020/10/22/11/8/8b57627b-4145-4c51-bdfd-9844320ead80.jpg\" onerror=\"this.src='//t1a.coupangcdn.com/thumbnails/remote/490x490/image/coupang/common/no_img_1000_1000.png';\" src=\"data:image/gif;base64,R0lGODlhAQABAAAAACH5BAEKAAEALAAAAAABAAEAAAICTAEAOw==\"/>\n",
       " <i class=\"prod-image__item__border\"></i>\n",
       " </div>\n",
       " <div class=\"prod-image__item\">\n",
       " <img alt=\"thumb image\" class=\"lazy-load-img\" data-src=\"//thumbnail10.coupangcdn.com/thumbnails/remote/48x48ex/image/retail/images/2020/10/22/11/7/83cf7e12-87ae-45b5-bcc8-485ff452cbe1.jpg\" onerror=\"this.src='//t1a.coupangcdn.com/thumbnails/remote/490x490/image/coupang/common/no_img_1000_1000.png';\" src=\"data:image/gif;base64,R0lGODlhAQABAAAAACH5BAEKAAEALAAAAAABAAEAAAICTAEAOw==\"/>\n",
       " <i class=\"prod-image__item__border\"></i>\n",
       " </div>\n",
       " <div class=\"prod-image__item\">\n",
       " <img alt=\"thumb image\" class=\"lazy-load-img\" data-src=\"//thumbnail10.coupangcdn.com/thumbnails/remote/48x48ex/image/retail/images/2020/10/22/11/6/3cf33f4f-47a2-4b68-a507-d20bb3b4eafa.jpg\" onerror=\"this.src='//t1a.coupangcdn.com/thumbnails/remote/490x490/image/coupang/common/no_img_1000_1000.png';\" src=\"data:image/gif;base64,R0lGODlhAQABAAAAACH5BAEKAAEALAAAAAABAAEAAAICTAEAOw==\"/>\n",
       " <i class=\"prod-image__item__border\"></i>\n",
       " </div>\n",
       " </div>]"
      ]
     },
     "execution_count": 7,
     "metadata": {},
     "output_type": "execute_result"
    }
   ],
   "source": [
    "#img_tag_list = soup.select_one(SELECTOR).find_all(\"img\")\n",
    "#img_tag_list\n",
    "a =soup.select(\"#repImageContainer > div.prod-image__items\") # CSS selector , 내가 선정한 class? 의 사이 내용을 주는 듯\n",
    "# select_one -> 제일 처음의 값으로 준다 ? \n",
    "# select -> 리스트 값으로 준다 .\n",
    "a"
   ]
  },
  {
   "cell_type": "code",
   "execution_count": 23,
   "id": "significant-strengthening",
   "metadata": {},
   "outputs": [
    {
     "data": {
      "text/plain": [
       "'\\n\\n\\n'"
      ]
     },
     "execution_count": 23,
     "metadata": {},
     "output_type": "execute_result"
    }
   ],
   "source": [
    "a[0].find_all(\"div\",attrs ={\"class\":\"prod-image__item prod-image__item--active\"})[0].get_text()\n",
    "# .text 와 .get_text()의 차이점 . get_text()는 .text를 불러오는 것 다른 parameter를 넣어서 전처리같은 걸 할수 있음 "
   ]
  },
  {
   "cell_type": "code",
   "execution_count": null,
   "id": "surgical-introduction",
   "metadata": {},
   "outputs": [],
   "source": [
    "img_list = [ thumb_url_to_product_url(img_url.get(\"data-src\")) for img_url in img_tag_list ]\n",
    "img_list"
   ]
  },
  {
   "cell_type": "code",
   "execution_count": 64,
   "id": "entertaining-chassis",
   "metadata": {
    "scrolled": true
   },
   "outputs": [
    {
     "name": "stdout",
     "output_type": "stream",
     "text": [
      "https://image10.coupangcdn.com/image/retail/images/2020/10/22/11/2/fc3ed8a5-85c9-4f2d-b7c3-450171c0a117.jpg\n",
      "https://image7.coupangcdn.com/image/retail/images/2020/10/22/11/5/3df9ddf9-50aa-471c-ad26-b4c5dfc0ad45.jpg\n",
      "https://image7.coupangcdn.com/image/retail/images/2020/10/22/11/2/fddb2fe3-816a-4c78-a31c-898ccd8bc19f.jpg\n",
      "https://image9.coupangcdn.com/image/retail/images/2020/10/22/11/8/8b57627b-4145-4c51-bdfd-9844320ead80.jpg\n",
      "https://image10.coupangcdn.com/image/retail/images/2020/10/22/11/7/83cf7e12-87ae-45b5-bcc8-485ff452cbe1.jpg\n",
      "https://image10.coupangcdn.com/image/retail/images/2020/10/22/11/6/3cf33f4f-47a2-4b68-a507-d20bb3b4eafa.jpg\n"
     ]
    }
   ],
   "source": [
    "from urllib.request import urlretrieve\n",
    "\n",
    "for idx, img_url in  enumerate(img_list):\n",
    "    print(img_url)\n",
    "    urlretrieve(img_url, f\"./test{idx}\")"
   ]
  },
  {
   "cell_type": "code",
   "execution_count": 45,
   "id": "certified-leadership",
   "metadata": {},
   "outputs": [
    {
     "name": "stdout",
     "output_type": "stream",
     "text": [
      "https://image10.coupangcdn.com/image/retail/images/2020/10/22/11/2/fc3ed8a5-85c9-4f2d-b7c3-450171c0a117.jpg\n"
     ]
    }
   ],
   "source": [
    "\n"
   ]
  },
  {
   "cell_type": "code",
   "execution_count": 43,
   "id": "instrumental-korean",
   "metadata": {},
   "outputs": [
    {
     "data": {
      "text/plain": [
       "['//thumbnail10.coupangcdn.com/thumbnails/remote/48x48',\n",
       " 'image/retail/images/2020/10/22/11/2/fc3ed8a5-85c9-4f2d-b7c3-450171c0a117.jpg']"
      ]
     },
     "execution_count": 43,
     "metadata": {},
     "output_type": "execute_result"
    }
   ],
   "source": [
    "example_text.split(\"ex/\")"
   ]
  },
  {
   "cell_type": "code",
   "execution_count": null,
   "id": "separated-institute",
   "metadata": {},
   "outputs": [],
   "source": []
  }
 ],
 "metadata": {
  "kernelspec": {
   "display_name": "Python 3",
   "language": "python",
   "name": "python3"
  },
  "language_info": {
   "codemirror_mode": {
    "name": "ipython",
    "version": 3
   },
   "file_extension": ".py",
   "mimetype": "text/x-python",
   "name": "python",
   "nbconvert_exporter": "python",
   "pygments_lexer": "ipython3",
   "version": "3.6.13"
  }
 },
 "nbformat": 4,
 "nbformat_minor": 5
}
